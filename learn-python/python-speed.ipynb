{
 "cells": [
  {
   "cell_type": "code",
   "execution_count": null,
   "metadata": {},
   "outputs": [],
   "source": []
  },
  {
   "cell_type": "markdown",
   "metadata": {},
   "source": [
    "### 哈希表时间\n",
    "\n",
    "参见 「2003. 每棵子树内缺失的最小基因值」\n",
    "[here](https://leetcode.cn/problems/smallest-missing-genetic-value-in-each-subtree/solution/go-qi-fa-shi-he-bing-by-endlesscheng-kmff/) 提到的「启发式合并」中提到了需要将小集合合并到大集合.\n",
    "\n",
    "- 实测发现, 合并 1e7, 1e8 级别的两个, 采用 union 函数需要 20s+. 因为是要新开一个集合然后将两个集合中的元素都加进去?\n",
    "- 而若采用将一个集合合并到另一个集合, 则小集合合并到大集合仅需要800ms, 而反之则需要近 20s.\n",
    "\n",
    "总而言之, 对于大集合的合并, 如果可能的话应该 **采用原地操作, 并且将小集合合并到大集合中**.\n"
   ]
  },
  {
   "cell_type": "code",
   "execution_count": 3,
   "metadata": {},
   "outputs": [],
   "source": [
    "s1 = set(range(10**8))\n",
    "s2 = set(range(10**7))"
   ]
  },
  {
   "cell_type": "code",
   "execution_count": 6,
   "metadata": {},
   "outputs": [
    {
     "name": "stdout",
     "output_type": "stream",
     "text": [
      "CPU times: user 7.44 s, sys: 14.6 s, total: 22 s\n",
      "Wall time: 28.4 s\n",
      "CPU times: user 8.1 s, sys: 15.9 s, total: 24 s\n",
      "Wall time: 34.3 s\n"
     ]
    }
   ],
   "source": [
    "s1 = set(range(10**8))\n",
    "s2 = set(range(10**7))\n",
    "%time _ = s1.union(s2)\n",
    "%time _= s2.union(s1)"
   ]
  },
  {
   "cell_type": "code",
   "execution_count": 1,
   "metadata": {},
   "outputs": [],
   "source": [
    "def f(s1, s2):\n",
    "    for i in s2:\n",
    "        s1.add(i)\n",
    "    return s1"
   ]
  },
  {
   "cell_type": "code",
   "execution_count": 11,
   "metadata": {},
   "outputs": [
    {
     "name": "stdout",
     "output_type": "stream",
     "text": [
      "CPU times: user 619 ms, sys: 221 ms, total: 840 ms\n",
      "Wall time: 973 ms\n",
      "CPU times: user 9.64 s, sys: 10.3 s, total: 20 s\n",
      "Wall time: 26.3 s\n"
     ]
    }
   ],
   "source": [
    "s1 = set(range(10**8))\n",
    "s2 = set(range(10**7))\n",
    "%time _ = f(s1, s2)\n",
    "s1 = set(range(10**8))\n",
    "s2 = set(range(10**7))\n",
    "%time _ = f(s2, s1)"
   ]
  },
  {
   "cell_type": "code",
   "execution_count": 12,
   "metadata": {},
   "outputs": [
    {
     "name": "stdout",
     "output_type": "stream",
     "text": [
      "CPU times: user 658 ms, sys: 294 ms, total: 952 ms\n",
      "Wall time: 957 ms\n",
      "CPU times: user 8.6 s, sys: 6.94 s, total: 15.5 s\n",
      "Wall time: 18.5 s\n"
     ]
    }
   ],
   "source": [
    "def f2(s1, s2):\n",
    "    for i in s2:\n",
    "        s1.add(i)\n",
    "s1 = set(range(10**8))\n",
    "s2 = set(range(10**7))\n",
    "%time f2(s1, s2)\n",
    "s1 = set(range(10**8))\n",
    "s2 = set(range(10**7))\n",
    "%time f2(s2, s1)"
   ]
  },
  {
   "cell_type": "code",
   "execution_count": null,
   "metadata": {},
   "outputs": [],
   "source": []
  }
 ],
 "metadata": {
  "interpreter": {
   "hash": "0979c6b5def387d93e98ce73f9f35fd1b7a3a4db92b8a06b818ed8599a26667a"
  },
  "kernelspec": {
   "display_name": "Python 3.10.4 ('py310')",
   "language": "python",
   "name": "python3"
  },
  "language_info": {
   "codemirror_mode": {
    "name": "ipython",
    "version": 3
   },
   "file_extension": ".py",
   "mimetype": "text/x-python",
   "name": "python",
   "nbconvert_exporter": "python",
   "pygments_lexer": "ipython3",
   "version": "3.10.4"
  },
  "orig_nbformat": 4
 },
 "nbformat": 4,
 "nbformat_minor": 2
}
