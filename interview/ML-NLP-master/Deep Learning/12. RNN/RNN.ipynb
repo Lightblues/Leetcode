{
 "cells": [
  {
   "cell_type": "code",
   "execution_count": 1,
   "metadata": {},
   "outputs": [],
   "source": [
    "import tensorflow as tf\n",
    "import numpy as np\n",
    "import matplotlib.pyplot as plt"
   ]
  },
  {
   "cell_type": "code",
   "execution_count": 3,
   "metadata": {},
   "outputs": [],
   "source": [
    "def gen_data(size=100000):\n",
    "    \"\"\"\n",
    "    生成数据:\n",
    "        输入数据X：在时间t，Xt的值有50%的概率为1，50%的概率为0；\n",
    "        输出数据Y：在实践t，Yt的值有50%的概率为1，50%的概率为0，除此之外，如果`Xt-3 == 1`，Yt为1的概率增加50%， 如果`Xt-8 == 1`，则Yt为1的概率减少25%， 如果上述两个条件同时满足，则Yt为1的概率为75%。\n",
    "    \"\"\"\n",
    "    X = np.random.choice(2,(size,))\n",
    "    Y = []\n",
    "    for i in range(size):\n",
    "        threshold = 0.5\n",
    "        # 判断X[i-3]和X[i-8]是否为1，修改阈值\n",
    "        if X[i-3] == 1:\n",
    "            threshold += 0.5\n",
    "        if X[i-8] == 1:\n",
    "            threshold -= 0.25\n",
    "        # 生成随机数，以threshold为阈值给Yi赋值\n",
    "        if np.random.rand() > threshold:\n",
    "            Y.append(0)\n",
    "        else:\n",
    "            Y.append(1)\n",
    "    return X,np.array(Y)"
   ]
  },
  {
   "cell_type": "code",
   "execution_count": 4,
   "metadata": {},
   "outputs": [],
   "source": [
    "def gen_batch(raw_data, batch_size, num_steps):\n",
    "    # raw_data是使用gen_data()函数生成的数据，分别是X和Y\n",
    "    raw_x, raw_y = raw_data\n",
    "    data_length = len(raw_x)\n",
    "    \n",
    "    # 首先将数据切分成batch_size份，0-batch_size，batch_size-2*batch_size。。。\n",
    "    batch_partition_length = data_length // batch_size\n",
    "    data_x = np.zeros([batch_size, batch_partition_length], dtype=np.int32)\n",
    "    data_y = np.zeros([batch_size, batch_partition_length], dtype=np.int32)\n",
    "    \n",
    "    # 因为RNN模型一次只处理num_steps个数据，所以将每个batch_size在进行切分成epoch_size份，每份num_steps个数据。注意这里的epoch_size和模型训练过程中的epoch不同。\n",
    "    for i in range(batch_size):\n",
    "        data_x[i] = raw_x[i * batch_partition_length:(i + 1) * batch_partition_length]\n",
    "        data_y[i] = raw_x[i * batch_partition_length:(i + 1) * batch_partition_length]\n",
    "        \n",
    "    # x是0-num_steps， batch_partition_length -batch_partition_length +num_steps。。。共batch_size个\n",
    "    epoch_size = batch_partition_length // num_steps\n",
    "    for i in range(epoch_size):\n",
    "        x = data_x[:, i * num_steps:(i + 1) * num_steps]\n",
    "        y = data_x[:, i * num_steps:(i + 1) * num_steps]\n",
    "        yield (x, y)"
   ]
  },
  {
   "cell_type": "code",
   "execution_count": 5,
   "metadata": {},
   "outputs": [],
   "source": [
    "def gen_epochs(n, num_steps):\n",
    "    '''这里的n就是训练过程中用的epoch，即在样本规模上循环的次数'''\n",
    "    for i in range(n):\n",
    "        yield gen_batch(gen_data(), batch_size, num_steps=num_steps)\n"
   ]
  },
  {
   "cell_type": "code",
   "execution_count": 6,
   "metadata": {},
   "outputs": [
    {
     "name": "stderr",
     "output_type": "stream",
     "text": [
      "W0815 13:59:50.105675 139691886995264 deprecation.py:323] From <ipython-input-6-938f039f2ac0>:20: BasicRNNCell.__init__ (from tensorflow.python.ops.rnn_cell_impl) is deprecated and will be removed in a future version.\n",
      "Instructions for updating:\n",
      "This class is equivalent as tf.keras.layers.SimpleRNNCell, and will be replaced by that in Tensorflow 2.0.\n",
      "W0815 13:59:50.107444 139691886995264 deprecation.py:323] From <ipython-input-6-938f039f2ac0>:21: static_rnn (from tensorflow.python.ops.rnn) is deprecated and will be removed in a future version.\n",
      "Instructions for updating:\n",
      "Please use `keras.layers.RNN(cell, unroll=True)`, which is equivalent to this API\n",
      "W0815 13:59:50.110475 139691886995264 deprecation.py:323] From /usr/local/python3/lib/python3.6/site-packages/tensorflow_core/python/ops/rnn_cell_impl.py:455: Layer.add_variable (from tensorflow.python.keras.engine.base_layer) is deprecated and will be removed in a future version.\n",
      "Instructions for updating:\n",
      "Please use `layer.add_weight` method instead.\n",
      "W0815 13:59:50.120152 139691886995264 deprecation.py:506] From /usr/local/python3/lib/python3.6/site-packages/tensorflow_core/python/ops/rnn_cell_impl.py:459: calling Zeros.__init__ (from tensorflow.python.ops.init_ops) with dtype is deprecated and will be removed in a future version.\n",
      "Instructions for updating:\n",
      "Call initializer instance with the dtype argument instead of passing it to the constructor\n"
     ]
    },
    {
     "name": "stdout",
     "output_type": "stream",
     "text": [
      "\\EPOCH 0\n",
      "Average loss at step 100 for last 100 steps: 0.45625598669052125\n",
      "Average loss at step 200 for last 100 steps: 0.33522686779499056\n",
      "Average loss at step 300 for last 100 steps: 0.32363319605588914\n",
      "Average loss at step 400 for last 100 steps: 0.3198443701863289\n",
      "Average loss at step 500 for last 100 steps: 0.31799371004104615\n",
      "Average loss at step 600 for last 100 steps: 0.316926654279232\n",
      "Average loss at step 700 for last 100 steps: 0.3162370014190674\n",
      "Average loss at step 800 for last 100 steps: 0.3157545381784439\n",
      "Average loss at step 900 for last 100 steps: 0.31540178656578066\n",
      "Average loss at step 1000 for last 100 steps: 0.3151378232240677\n",
      "Average loss at step 1100 for last 100 steps: 0.31492061764001844\n",
      "Average loss at step 1200 for last 100 steps: 0.314748175740242\n",
      "Average loss at step 1300 for last 100 steps: 0.3146084254980087\n",
      "Average loss at step 1400 for last 100 steps: 0.3144863533973694\n",
      "Average loss at step 1500 for last 100 steps: 0.3143901726603508\n",
      "Average loss at step 1600 for last 100 steps: 0.3143030619621277\n",
      "Average loss at step 1700 for last 100 steps: 0.31422749906778336\n",
      "Average loss at step 1800 for last 100 steps: 0.3141659554839134\n",
      "Average loss at step 1900 for last 100 steps: 0.31411062598228456\n"
     ]
    },
    {
     "data": {
      "image/png": "[encoded data removed]",
      "text/plain": [
       "<Figure size 432x288 with 1 Axes>"
      ]
     },
     "metadata": {
      "needs_background": "light"
     },
     "output_type": "display_data"
    }
   ],
   "source": [
    "batch_size = 5\n",
    "num_steps = 10\n",
    "state_size = 10\n",
    "n_classes = 2\n",
    "learning_rate = 0.1\n",
    "\n",
    "x = tf.placeholder(tf.int32, [batch_size, num_steps])\n",
    "y = tf.placeholder(tf.int32, [batch_size, num_steps])\n",
    "\n",
    "#RNN的初始化状态，全设为零。注意state是与input保持一致，接下来会有concat操作，所以这里要有batch的维度。即每个样本都要有隐层状态\n",
    "init_state = tf.zeros([batch_size, state_size])\n",
    "\n",
    "#将输入转化为one-hot编码，两个类别。[batch_size, num_steps, num_classes]\n",
    "x_one_hot = tf.one_hot(x, n_classes)\n",
    "\n",
    "#将输入unstack，即在num_steps上解绑，方便给每个循环单元输入。这里可以看出RNN每个cell都处理一个batch的输入（即batch个二进制样本输入）\n",
    "rnn_inputs = tf.unstack(x_one_hot, axis=1)\n",
    "\n",
    "#定义rnn_cell的权重参数，\n",
    "cell = tf.contrib.rnn.BasicRNNCell(state_size)\n",
    "rnn_outputs, final_state = tf.contrib.rnn.static_rnn(cell, rnn_inputs, initial_state=init_state)\n",
    "\n",
    "# 定义softmax层\n",
    "with tf.variable_scope('softmax'):\n",
    "    W = tf.get_variable('W', [state_size, n_classes])\n",
    "    b = tf.get_variable('b', [n_classes])\n",
    "\n",
    "#注意，这里要将num_steps个输出全部分别进行计算其输出，然后使用softmax预测\n",
    "logits = [tf.matmul(rnn_output, W) + b for rnn_output in rnn_outputs]\n",
    "predictions = [tf.nn.softmax(logit) for logit in logits]\n",
    "\n",
    "# tf.stack（）这是一个矩阵拼接的函数，tf.unstack（）则是一个矩阵分解的函数\n",
    "y_as_lists = tf.unstack(y, num=num_steps, axis=1)\n",
    "\n",
    "losses = [tf.nn.sparse_softmax_cross_entropy_with_logits(labels=label, logits=logit) for label, logit in zip(y_as_lists, predictions)]\n",
    "total_loss = tf.reduce_mean(losses)\n",
    "train_step = tf.train.GradientDescentOptimizer(learning_rate).minimize(total_loss)\n",
    "\n",
    "def train_network(num_epochs, num_steps, state_size, verbose=True):\n",
    "    with tf.Session() as sess:\n",
    "        sess.run(tf.global_variables_initializer())\n",
    "        training_losses = []\n",
    "        \n",
    "        for idx, epoch in enumerate(gen_epochs(num_epochs, num_steps)):\n",
    "            training_loss = 0\n",
    "            # 保存每次执行后的最后状态，然后赋给下一次执行\n",
    "            training_state = np.zeros((batch_size, state_size))\n",
    "            if verbose:\n",
    "                print('\\EPOCH', idx)\n",
    "            \n",
    "            # 这是具体获得数据的部分\n",
    "            for step, (X, Y) in enumerate(epoch):\n",
    "                tr_losses, training_loss_, training_state, _ = sess.run([losses, total_loss, final_state, train_step], \n",
    "                                                                        feed_dict={x:X, y:Y, init_state: training_state})\n",
    "                \n",
    "                training_loss += training_loss_\n",
    "                if step % 100 == 0 and step > 0:\n",
    "                    if verbose:\n",
    "                        print(\"Average loss at step\", step,\"for last 100 steps:\", training_loss / 100)\n",
    "                    \n",
    "                    training_losses.append(training_loss / 100)\n",
    "                    training_loss = 0\n",
    "            \n",
    "            return training_losses\n",
    "\n",
    "training_losses = train_network(1, num_steps, state_size)\n",
    "plt.plot(training_losses)\n",
    "plt.show()"
   ]
  },
  {
   "cell_type": "code",
   "execution_count": null,
   "metadata": {},
   "outputs": [],
   "source": []
  }
 ],
 "metadata": {
  "kernelspec": {
   "display_name": "Python3",
   "language": "python",
   "name": "python3"
  },
  "language_info": {
   "codemirror_mode": {
    "name": "ipython",
    "version": 3
   },
   "file_extension": ".py",
   "mimetype": "text/x-python",
   "name": "python",
   "nbconvert_exporter": "python",
   "pygments_lexer": "ipython3",
   "version": "3.6.2"
  }
 },
 "nbformat": 4,
 "nbformat_minor": 2
}
